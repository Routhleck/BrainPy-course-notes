{
 "cells": [
  {
   "cell_type": "markdown",
   "id": "d1dc21de",
   "metadata": {},
   "source": [
    "# Day 3: reduced model 进阶作业"
   ]
  },
  {
   "cell_type": "code",
   "execution_count": 3,
   "id": "cd9cea8c",
   "metadata": {},
   "outputs": [
    {
     "name": "stderr",
     "output_type": "stream",
     "text": [
      "/Users/ztqakita/opt/anaconda3/envs/bdp/lib/python3.9/site-packages/flax/struct.py:136: FutureWarning: jax.tree_util.register_keypaths is deprecated, and will be removed in a future release. Please use `register_pytree_with_keys()` instead.\n",
      "  jax.tree_util.register_keypaths(data_clz, keypaths)\n",
      "/Users/ztqakita/opt/anaconda3/envs/bdp/lib/python3.9/site-packages/flax/struct.py:136: FutureWarning: jax.tree_util.register_keypaths is deprecated, and will be removed in a future release. Please use `register_pytree_with_keys()` instead.\n",
      "  jax.tree_util.register_keypaths(data_clz, keypaths)\n"
     ]
    }
   ],
   "source": [
    "import brainpy as bp\n",
    "import brainpy.math as bm\n",
    "import numpy as np\n",
    "import matplotlib.pyplot as plt"
   ]
  },
  {
   "cell_type": "markdown",
   "id": "b344294a",
   "metadata": {},
   "source": [
    "## 1. Building a Leaky Integrate-and-Fire (LIF) neuron model (advanced)\n",
    "\n",
    "The mathematic expression of the LIF neuron model is as follows:\n",
    "\\begin{align}\n",
    "    \\tau \\ \\frac{\\mathrm{d}V}{\\mathrm{d}t} &= -(V - V_{rest}) + RI  \\\\\n",
    "    \\mathrm{if}\\ V &> V_{th}, \\ V \\gets V_{reset}  \\ \\ \\mathrm{last} \\ \\ t_\\mathrm{ref}\n",
    "\\end{align}"
   ]
  },
  {
   "cell_type": "code",
   "execution_count": null,
   "id": "975f7d0e",
   "metadata": {},
   "outputs": [],
   "source": [
    "class LIF(bp.dyn.NeuDyn):\n",
    "  def __init__(self, size, V_rest=0., V_reset=-5., V_th=20., R=1., tau=10., t_ref=5., **kwargs):\n",
    "    # 初始化父类\n",
    "    super(LIF, self).__init__(size=size, **kwargs)\n",
    "\n",
    "    # 初始化参数\n",
    "    self.V_rest = V_rest\n",
    "    self.V_reset = V_reset\n",
    "    self.V_th = V_th\n",
    "    self.R = R\n",
    "    self.tau = tau\n",
    "    self.t_ref = t_ref  # 不应期时长\n",
    "\n",
    "    # 初始化变量\n",
    "    # todo: 初始化膜电压self.V：统一设置为V_reset，或增加一些随机性，使之在V_reset附近波动\n",
    "    # self.V = \n",
    "    # todo: 初始化不应期记录self.refractory，bool类型，如果神经元处于不应期则为1，否则为0\n",
    "    # self.refractory =\n",
    "    # todo: 初始化上一次脉冲发放时间记录self.t_last_spike，记录神经元上一次发放脉冲的时间，统一初始化为0即可\n",
    "    # self.t_last_spike =\n",
    "    # todo: 初始化脉冲发放状态self.spike：bool类型，如果神经元正处于发放状态则为1，否则为0\n",
    "    # self.spike = \n",
    "    \n",
    "    self.input = bm.Variable(bm.zeros(self.num))  # 初始化外部输入电流\n",
    "\n",
    "    # 使用指数欧拉方法进行积分\n",
    "    self.integral = bp.odeint(f=self.derivative, method='exponential_euler')\n",
    "\n",
    "  # 定义膜电位关于时间变化的微分方程\n",
    "  def derivative(self, V, t, Iext):  # Iext为外部输入电流\n",
    "    # todo: dVdt = \n",
    "    dVdt = ...\n",
    "    return dVdt\n",
    "\n",
    "  def update(self):\n",
    "    t, dt = bp.share['t'], bp.share['dt']  # 获取时间_t和积分步长_dt\n",
    "    \n",
    "    # 以数组的方式对神经元进行更新\n",
    "    \n",
    "    # todo: 数值积分，更新膜电位，用到self.integral()，暂时存储在变量V中 （先不考虑是否处于不应期）\n",
    "    # V = \n",
    "    \n",
    "    refractory = (t - self.t_last_spike) <= self.t_ref  # 判断神经元是否处于不应期\n",
    "    \n",
    "    # todo: 若处于不应期，则返回原始膜电位self.V，否则返回更新后的膜电位V\n",
    "    # V = \n",
    "    \n",
    "    spike = V > self.V_th  # 将大于阈值的神经元标记为发放了脉冲\n",
    "    # todo: 将大于阈值的神经元标记为发放了脉冲（注意更新时要使用in-place udpdate)\n",
    "    # self.spike[:] = \n",
    "    \n",
    "    # todo: 更新最后一次脉冲发放时间（提示：如果此刻发放了脉冲，则将时间更新为此刻，否则保留原先的数值）\n",
    "    # self.t_last_spike[:]\n",
    "    \n",
    "    self.V[:] = bm.where(spike, self.V_reset, V)  # 将发放了脉冲的神经元膜电位置为V_reset，其余不变\n",
    "    \n",
    "    self.refractory[:] = bm.logical_or(refractory, spike)  # 更新神经元是否处于不应期\n",
    "    \n",
    "    self.input[:] = 0.  # 重置外界输入"
   ]
  },
  {
   "cell_type": "markdown",
   "id": "d8305510",
   "metadata": {},
   "source": [
    "### Run the LIF model to see if you are correct"
   ]
  },
  {
   "cell_type": "code",
   "execution_count": 2,
   "id": "fbd95de6",
   "metadata": {},
   "outputs": [],
   "source": [
    "def run_LIF():\n",
    "  # 运行LIF模型\n",
    "\n",
    "  group = LIF(1)\n",
    "  runner = bp.DSRunner(group, monitors=['V'], inputs=('input', 22.))\n",
    "  runner(200)  # 运行时长为200ms\n",
    "\n",
    "  # 结果可视化\n",
    "  fig, gs = bp.visualize.get_figure(1, 1, 4.5, 6)\n",
    "  ax = fig.add_subplot(gs[0, 0])\n",
    "  plt.plot(runner.mon.ts, runner.mon.V)\n",
    "  plt.xlabel(r'$t$ (ms)')\n",
    "  plt.ylabel(r'$V$ (mV)')\n",
    "  ax.spines['top'].set_visible(False)\n",
    "  ax.spines['right'].set_visible(False)\n",
    "  plt.show()"
   ]
  },
  {
   "cell_type": "code",
   "execution_count": null,
   "id": "319f4266",
   "metadata": {},
   "outputs": [],
   "source": [
    "run_LIF()"
   ]
  },
  {
   "cell_type": "markdown",
   "id": "275efa83",
   "metadata": {},
   "source": [
    "## Answer 1"
   ]
  },
  {
   "cell_type": "code",
   "execution_count": 4,
   "id": "76292d56",
   "metadata": {},
   "outputs": [],
   "source": [
    "class LIF(bp.dyn.NeuDyn):\n",
    "  def __init__(self, size, V_rest=0., V_reset=-5., V_th=20., R=1., tau=10., t_ref=5., **kwargs):\n",
    "    # 初始化父类\n",
    "    super(LIF, self).__init__(size=size, **kwargs)\n",
    "\n",
    "    # 初始化参数\n",
    "    self.V_rest = V_rest  # 静息膜电位\n",
    "    self.V_reset = V_reset  # 重置膜电位\n",
    "    self.V_th = V_th  # 阈值\n",
    "    self.R = R  # 膜电阻\n",
    "    self.tau = tau  # 膜电位时间常数\n",
    "    self.t_ref = t_ref  # 不应期时长\n",
    "\n",
    "    # 初始化变量\n",
    "    self.V = bm.Variable(bm.random.randn(self.num) + V_reset)\n",
    "    self.input = bm.Variable(bm.zeros(self.num))\n",
    "    self.t_last_spike = bm.Variable(bm.ones(self.num) * -1e7)  # 上一次脉冲发放时间\n",
    "    self.refractory = bm.Variable(bm.zeros(self.num, dtype=bool))  # 是否处于不应期\n",
    "    self.spike = bm.Variable(bm.zeros(self.num, dtype=bool))  # 脉冲发放状态\n",
    "\n",
    "    # 使用指数欧拉方法进行积分\n",
    "    self.integral = bp.odeint(f=self.derivative, method='exponential_euler')\n",
    "\n",
    "  # 定义膜电位关于时间变化的微分方程\n",
    "  def derivative(self, V, t, Iext):\n",
    "    dVdt = (-V + self.V_rest + self.R * Iext) / self.tau\n",
    "    return dVdt\n",
    "\n",
    "  def update(self):\n",
    "    t, dt = bp.share['t'], bp.share['dt']\n",
    "    # 以数组的方式对神经元进行更新\n",
    "    refractory = (t - self.t_last_spike) <= self.t_ref  # 判断神经元是否处于不应期\n",
    "    V = self.integral(self.V, t, self.input, dt=dt)  # 根据时间步长更新膜电位\n",
    "    V = bm.where(refractory, self.V, V)  # 若处于不应期，则返回原始膜电位self.V，否则返回更新后的膜电位V\n",
    "    spike = V > self.V_th  # 将大于阈值的神经元标记为发放了脉冲\n",
    "    self.spike[:] = spike  # 更新神经元脉冲发放状态\n",
    "    self.t_last_spike[:] = bm.where(spike, t, self.t_last_spike)  # 更新最后一次脉冲发放时间\n",
    "    self.V[:] = bm.where(spike, self.V_reset, V)  # 将发放了脉冲的神经元膜电位置为V_reset，其余不变\n",
    "    self.refractory[:] = bm.logical_or(refractory, spike)  # 更新神经元是否处于不应期\n",
    "    self.input[:] = 0.  # 重置外界输入"
   ]
  },
  {
   "cell_type": "code",
   "execution_count": 5,
   "id": "cc846e14",
   "metadata": {},
   "outputs": [
    {
     "data": {
      "application/vnd.jupyter.widget-view+json": {
       "model_id": "53388d89fe9449d4a402ceea981c25d0",
       "version_major": 2,
       "version_minor": 0
      },
      "text/plain": [
       "  0%|          | 0/2000 [00:00<?, ?it/s]"
      ]
     },
     "metadata": {},
     "output_type": "display_data"
    },
    {
     "data": {
      "image/png": "[encoded data removed]",
      "text/plain": [
       "<Figure size 432x324 with 1 Axes>"
      ]
     },
     "metadata": {
      "needs_background": "light"
     },
     "output_type": "display_data"
    }
   ],
   "source": [
    "run_LIF()"
   ]
  },
  {
   "cell_type": "markdown",
   "id": "b69fbae6",
   "metadata": {},
   "source": [
    "## 2. Building a Izhikevich neuron model\n",
    "\n",
    "The mathematic expression of the Izhikevich neuron model is as follows:\n",
    "\\begin{align}\n",
    "    \\frac{\\mathrm{d}V}{\\mathrm{d}t} &= 0.04V^2 + 5V + 140 - u + I  \\\\\n",
    "    \\frac{\\mathrm{d}u}{\\mathrm{d}t} &= a \\left(bV - u\\right)  \\\\\n",
    "    \\mathrm{if}\\ V &> \\theta, \\quad  V \\gets c, \\ u \\gets u + d  \\ \\ \\mathrm{last} \\ \\ t_\\mathrm{ref}\n",
    "\\end{align}\n",
    "\n",
    "Please fill the <i>todo</i> blanks of the following code."
   ]
  },
  {
   "cell_type": "code",
   "execution_count": null,
   "id": "a149d3fc",
   "metadata": {},
   "outputs": [],
   "source": [
    "class Izhikevich(bp.dyn.NeuDyn):\n",
    "  def __init__(self, size, a=0.02, b=0.20, c=-65., d=2., t_ref=0.,\n",
    "               V_th=30., **kwargs):\n",
    "    # 初始化父类\n",
    "    super(Izhikevich, self).__init__(size=size, **kwargs)\n",
    "\n",
    "    # 初始化参数\n",
    "    self.a = a\n",
    "    self.b = b\n",
    "    self.c = c\n",
    "    self.d = d\n",
    "    self.V_th = V_th\n",
    "    self.t_ref = t_ref\n",
    "\n",
    "    # 初始化变量\n",
    "    self.V = bm.Variable(bm.random.randn(self.num) - 65.)\n",
    "    self.u = bm.Variable(self.V * b)\n",
    "    self.input = bm.Variable(bm.zeros(self.num))\n",
    "    self.t_last_spike = bm.Variable(bm.ones(self.num) * -1e7)  # 上一次脉冲发放时间\n",
    "    self.refractory = bm.Variable(bm.zeros(self.num, dtype=bool))  # 是否处于不应期\n",
    "    self.spike = bm.Variable(bm.zeros(self.num, dtype=bool))  # 脉冲发放状态\n",
    "\n",
    "    # 定义积分器\n",
    "    self.integral = bp.odeint(f=self.derivative, method='exp_auto')\n",
    "\n",
    "  def dV(self, V, t, u, Iext):\n",
    "    # todo: 变量V的微分方程\n",
    "    dVdt = ...\n",
    "    return dVdt\n",
    "\n",
    "  def du(self, u, t, V):\n",
    "    # todo: 变量u的微分方程\n",
    "    dudt = ...\n",
    "    return dudt\n",
    "\n",
    "  @property\n",
    "  def derivative(self):\n",
    "    # todo: 将两个微分方程联合为一个，以便同时积分（使用brainpy.JointEq() )\n",
    "    return ...\n",
    "\n",
    "  def update(self):\n",
    "    _t, _dt = bp.share['t'], bp.share['dt']\n",
    "    \n",
    "    # todo: # 更新变量V, u，暂存在V, u中\n",
    "    # V, u = \n",
    "    refractory = (_t - self.t_last_spike) <= self.t_ref  # 判断神经元是否处于不应期\n",
    "    V = bm.where(refractory, self.V, V)  # 若处于不应期，则返回原始膜电位self.V，否则返回更新后的膜电位V\n",
    "    u = bm.where(refractory, self.u, u)  # u同理\n",
    "    spike = V > self.V_th  # 将大于阈值的神经元标记为发放了脉冲\n",
    "    self.spike.value = spike  # 更新神经元脉冲发放状态\n",
    "    self.t_last_spike.value = bm.where(spike, _t, self.t_last_spike)  # 更新最后一次脉冲发放时间\n",
    "    \n",
    "    # todo: 将发放了脉冲的神经元的V置为c，其余不变，并传回给self.V（注意更新时要使用in-place udpdate)\n",
    "    # \n",
    "    # todo: 将发放了脉冲的神经元的u增加d，其余不变，并传回给self.u（注意更新时要使用in-place udpdate)\n",
    "    # \n",
    "    \n",
    "    self.refractory.value = bm.logical_or(refractory, spike)  # 更新神经元是否处于不应期\n",
    "    \n",
    "    self.input[:] = 0.  # 重置外界输入"
   ]
  },
  {
   "cell_type": "markdown",
   "id": "bfab21ea",
   "metadata": {},
   "source": [
    "### Run the Izhikevich model to see if you are correct"
   ]
  },
  {
   "cell_type": "code",
   "execution_count": 6,
   "id": "7c2d9128",
   "metadata": {},
   "outputs": [],
   "source": [
    "def run_Izhikevich():\n",
    "  # 运行Izhikevich模型\n",
    "  group = Izhikevich(10)\n",
    "  runner = bp.DSRunner(group, monitors=['V', 'u'], inputs=('input', 10.))\n",
    "  runner(300)\n",
    "  bp.visualize.line_plot(runner.mon.ts, runner.mon.V, legend='V', show=False)\n",
    "  bp.visualize.line_plot(runner.mon.ts, runner.mon.u, legend='u', show=True)"
   ]
  },
  {
   "cell_type": "code",
   "execution_count": null,
   "id": "8ad67fe3",
   "metadata": {},
   "outputs": [],
   "source": [
    "run_Izhikevich()"
   ]
  },
  {
   "cell_type": "markdown",
   "id": "a76e82d9",
   "metadata": {},
   "source": [
    "## Answer 2"
   ]
  },
  {
   "cell_type": "code",
   "execution_count": 9,
   "id": "38a60195",
   "metadata": {},
   "outputs": [],
   "source": [
    "class Izhikevich(bp.dyn.NeuDyn):\n",
    "  def __init__(self, size, a=0.02, b=0.20, c=-65., d=2., t_ref=0.,\n",
    "               V_th=30., **kwargs):\n",
    "    # 初始化父类\n",
    "    super(Izhikevich, self).__init__(size=size, **kwargs)\n",
    "\n",
    "    # 初始化参数\n",
    "    self.a = a\n",
    "    self.b = b\n",
    "    self.c = c\n",
    "    self.d = d\n",
    "    self.V_th = V_th\n",
    "    self.t_ref = t_ref\n",
    "\n",
    "    # 初始化变量\n",
    "    self.V = bm.Variable(bm.random.randn(self.num) - 65.)\n",
    "    self.u = bm.Variable(self.V * b)\n",
    "    self.input = bm.Variable(bm.zeros(self.num))\n",
    "    self.t_last_spike = bm.Variable(bm.ones(self.num) * -1e7)  # 上一次脉冲发放时间\n",
    "    self.refractory = bm.Variable(bm.zeros(self.num, dtype=bool))  # 是否处于不应期\n",
    "    self.spike = bm.Variable(bm.zeros(self.num, dtype=bool))  # 脉冲发放状态\n",
    "\n",
    "    # 定义积分器\n",
    "    self.integral = bp.odeint(f=self.derivative, method='exp_auto')\n",
    "\n",
    "  def dV(self, V, t, u, Iext):\n",
    "    return 0.04 * V * V + 5 * V + 140 - u + Iext\n",
    "\n",
    "  def du(self, u, t, V):\n",
    "    return self.a * (self.b * V - u)\n",
    "\n",
    "  # 将两个微分方程联合为一个，以便同时积分\n",
    "  @property\n",
    "  def derivative(self):\n",
    "    return bp.JointEq([self.dV, self.du])\n",
    "\n",
    "  def update(self):\n",
    "    _t, _dt = bp.share['t'], bp.share['dt']\n",
    "    V, u = self.integral(self.V, self.u, _t, self.input, dt=_dt)  # 更新变量V, u\n",
    "    refractory = (_t - self.t_last_spike) <= self.t_ref  # 判断神经元是否处于不应期\n",
    "    V = bm.where(refractory, self.V, V)  # 若处于不应期，则返回原始膜电位self.V，否则返回更新后的膜电位V\n",
    "    u = bm.where(refractory, self.u, u)  # u同理\n",
    "    spike = V > self.V_th  # 将大于阈值的神经元标记为发放了脉冲\n",
    "    self.spike.value = spike  # 更新神经元脉冲发放状态\n",
    "    self.t_last_spike.value = bm.where(spike, _t, self.t_last_spike)  # 更新最后一次脉冲发放时间\n",
    "    self.V.value = bm.where(spike, self.c, V)  # 将发放了脉冲的神经元的V置为c，其余不变\n",
    "    self.u.value = bm.where(spike, u + self.d, u)  # 将发放了脉冲的神经元的u增加d，其余不变\n",
    "    self.refractory.value = bm.logical_or(refractory, spike)  # 更新神经元是否处于不应期\n",
    "    self.input[:] = 0.  # 重置外界输入"
   ]
  },
  {
   "cell_type": "code",
   "execution_count": 10,
   "id": "e6d90704",
   "metadata": {},
   "outputs": [
    {
     "data": {
      "application/vnd.jupyter.widget-view+json": {
       "model_id": "c191461d52064eb7ac6a6ac32cb3b306",
       "version_major": 2,
       "version_minor": 0
      },
      "text/plain": [
       "  0%|          | 0/3000 [00:00<?, ?it/s]"
      ]
     },
     "metadata": {},
     "output_type": "display_data"
    },
    {
     "data": {
      "image/png": "[encoded data removed]",
      "text/plain": [
       "<Figure size 432x288 with 1 Axes>"
      ]
     },
     "metadata": {
      "needs_background": "light"
     },
     "output_type": "display_data"
    }
   ],
   "source": [
    "run_Izhikevich()"
   ]
  },
  {
   "cell_type": "markdown",
   "id": "6f254b87",
   "metadata": {},
   "source": [
    "### Extended: \n",
    "You can also modify the parameters (e.g, a, b, c, d, and the input current) in the Izhikevich model to see how they affect the firing pattern."
   ]
  },
  {
   "cell_type": "markdown",
   "id": "ab80d011",
   "metadata": {},
   "source": [
    "## Phase plane analysis of the AdEx neuron model"
   ]
  },
  {
   "cell_type": "code",
   "execution_count": 9,
   "id": "c0560140",
   "metadata": {},
   "outputs": [],
   "source": [
    "AdEx = bp.neurons.AdExIF  # 从brainpy导入现成的模型\n",
    "\n",
    "neuron_AdEx = AdEx(\n",
    "    size=1,\n",
    "    a=1.,\n",
    "    b=10.,\n",
    "    tau=10.,\n",
    "    tau_w=100.,\n",
    "    V_reset=-60.,\n",
    "    R=.5, delta_T=2., V_rest=-70., V_th=-30., V_T=-50.\n",
    ")\n",
    "\n",
    "Iext = 55.\n",
    "\n",
    "# 可以尝试的参数组合包括但不限于：\n",
    "# a        0.01, 0.01, 0.5,  -0.5, 1.,   -1.\n",
    "# b        60.,  5.,   7.,   7.,   10.,  5.\n",
    "# tau      20.,  20.,  5.,   5.,   10.,  5.\n",
    "# tau_w    30.,  100., 100., 100., 100., 100.\n",
    "# V_reset  -55., -55., -51., -47., -60., -60.\n",
    "# Iext     65.,  65.,  65.,  65.,  55.,  25.\n",
    "\n",
    "def AdEx_patterns(group):\n",
    "    group.V[:], group.w[:] = group.V_reset, 0\n",
    "    runner = bp.DSRunner(group, monitors=['V', 'w', 'spike'], inputs=('input', Iext))\n",
    "    runner.run(500.)\n",
    "\n",
    "    runner.mon.V = np.where(runner.mon.spike, 20., runner.mon.V)\n",
    "\n",
    "    plt.plot(runner.mon.ts, runner.mon.V, label='V')\n",
    "    plt.plot(runner.mon.ts, runner.mon.w, label='w')\n",
    "    plt.legend()\n",
    "    plt.xlabel(r'$t$ (ms)')\n",
    "\n",
    "    plt.show()"
   ]
  },
  {
   "cell_type": "code",
   "execution_count": 10,
   "id": "1bb675aa",
   "metadata": {},
   "outputs": [
    {
     "data": {
      "application/vnd.jupyter.widget-view+json": {
       "model_id": "08f44ac210004b26be83321a8853cddb",
       "version_major": 2,
       "version_minor": 0
      },
      "text/plain": [
       "  0%|          | 0/5000 [00:00<?, ?it/s]"
      ]
     },
     "metadata": {},
     "output_type": "display_data"
    },
    {
     "data": {
      "image/png": "[encoded data removed]",
      "text/plain": [
       "<Figure size 432x288 with 1 Axes>"
      ]
     },
     "metadata": {
      "needs_background": "light"
     },
     "output_type": "display_data"
    }
   ],
   "source": [
    "AdEx_patterns(neuron_AdEx)"
   ]
  },
  {
   "cell_type": "markdown",
   "id": "87cde91e",
   "metadata": {},
   "source": [
    "### Phase plane analysis: Please fill the <i>todo</i> blanks of the following code."
   ]
  },
  {
   "cell_type": "code",
   "execution_count": 127,
   "id": "8239d40d",
   "metadata": {},
   "outputs": [],
   "source": [
    "def ppa_AdEx(group):\n",
    "    bm.enable_x64()\n",
    "    \n",
    "    v_range = [-70., -40.]\n",
    "    w_range = [-10., 50.]\n",
    "    \n",
    "    phase_plane_analyzer = bp.analysis.PhasePlane2D(\n",
    "        model=group,\n",
    "        # todo: 待分析变量及其分析区间\n",
    "        # target_vars=\n",
    "        # todo: 需要更新的变量\n",
    "        # pars_update=\n",
    "        resolutions=0.05\n",
    "    )\n",
    "\n",
    "    # 画出V, w的零增长曲线\n",
    "    phase_plane_analyzer.plot_nullcline()\n",
    "    # 画出奇点\n",
    "    phase_plane_analyzer.plot_fixed_point()\n",
    "    # 画出向量场\n",
    "    phase_plane_analyzer.plot_vector_field()\n",
    "    \n",
    "    # 分段画出V, w的变化轨迹\n",
    "    group.V[:], group.w[:] = group.V_reset, 0\n",
    "    runner = bp.DSRunner(group, monitors=['V', 'w', 'spike'], inputs=('input', Iext))\n",
    "    runner(500)\n",
    "    spike = runner.mon.spike.squeeze()\n",
    "    s_idx = np.where(spike)[0]  # 找到所有发放动作电位对应的index\n",
    "    s_idx = np.concatenate(([0], s_idx, [len(spike) - 1]))  # 加上起始点和终止点的index\n",
    "    for i in range(len(s_idx) - 1):\n",
    "        vs = runner.mon.V[s_idx[i]: s_idx[i + 1]]\n",
    "        ws = runner.mon.w[s_idx[i]: s_idx[i + 1]]\n",
    "        plt.plot(vs, ws, color='darkslateblue')\n",
    "        \n",
    "    # 画出虚线 x = V_reset\n",
    "    plt.plot([group.V_reset, group.V_reset], w_range, '--', color='grey', zorder=-1)\n",
    "    \n",
    "    plt.show()"
   ]
  },
  {
   "cell_type": "code",
   "execution_count": null,
   "id": "53883fc4",
   "metadata": {
    "scrolled": false
   },
   "outputs": [],
   "source": [
    "ppa_AdEx(neuron_AdEx)"
   ]
  },
  {
   "cell_type": "markdown",
   "id": "9e5ac434",
   "metadata": {},
   "source": [
    "## Answer 3"
   ]
  },
  {
   "cell_type": "code",
   "execution_count": 13,
   "id": "1ec1c1dd",
   "metadata": {},
   "outputs": [],
   "source": [
    "def ppa_AdEx(group):\n",
    "    bm.enable_x64()\n",
    "    \n",
    "    v_range = [-70., -40.]\n",
    "    w_range = [-10., 50.]\n",
    "    \n",
    "    phase_plane_analyzer = bp.analysis.PhasePlane2D(\n",
    "        model=group,\n",
    "        target_vars={'V': v_range, 'w': w_range, },  # 待分析变量\n",
    "        pars_update={'I': Iext},  # 需要更新的变量\n",
    "        resolutions=0.05\n",
    "    )\n",
    "\n",
    "    # 画出V, w的零增长曲线\n",
    "    phase_plane_analyzer.plot_nullcline()\n",
    "    # 画出奇点\n",
    "    phase_plane_analyzer.plot_fixed_point()\n",
    "    # 画出向量场\n",
    "    phase_plane_analyzer.plot_vector_field()\n",
    "    \n",
    "    # 分段画出V, w的变化轨迹\n",
    "    group.V[:], group.w[:] = group.V_reset, 0\n",
    "    runner = bp.DSRunner(group, monitors=['V', 'w', 'spike'], inputs=('input', Iext))\n",
    "    runner(500)\n",
    "    spike = runner.mon.spike.squeeze()\n",
    "    s_idx = np.where(spike)[0]  # 找到所有发放动作电位对应的index\n",
    "    s_idx = np.concatenate(([0], s_idx, [len(spike) - 1]))  # 加上起始点和终止点的index\n",
    "    for i in range(len(s_idx) - 1):\n",
    "        vs = runner.mon.V[s_idx[i]: s_idx[i + 1]]\n",
    "        ws = runner.mon.w[s_idx[i]: s_idx[i + 1]]\n",
    "        plt.plot(vs, ws, color='darkslateblue')\n",
    "        \n",
    "    # 画出虚线 x = V_reset\n",
    "    plt.plot([group.V_reset, group.V_reset], w_range, '--', color='grey', zorder=-1)\n",
    "    \n",
    "    plt.show()"
   ]
  },
  {
   "cell_type": "code",
   "execution_count": 14,
   "id": "b717d2f3",
   "metadata": {
    "scrolled": false
   },
   "outputs": [
    {
     "name": "stderr",
     "output_type": "stream",
     "text": [
      "I am computing fx-nullcline ...\n",
      "I am evaluating fx-nullcline by optimization ...\n",
      "I am computing fy-nullcline ...\n",
      "I am evaluating fy-nullcline by optimization ...\n",
      "I am searching fixed points ...\n",
      "I am trying to find fixed points by optimization ...\n",
      "\tThere are 1240 candidates\n",
      "I am trying to filter out duplicate fixed points ...\n",
      "\tFound 3 fixed points.\n",
      "\t#1 V=-50.7488997195696, w=19.248851709944457 is a stable focus.\n",
      "\t#2 V=-47.94941233679148, w=22.05046184198845 is a saddle node.\n",
      "\t#3 V=-47.95256963921971, w=22.03969187742025 is a saddle node.\n",
      "I am creating the vector field ...\n"
     ]
    },
    {
     "data": {
      "application/vnd.jupyter.widget-view+json": {
       "model_id": "86cd3fc8b9fa4c56a08b0027987dd3f1",
       "version_major": 2,
       "version_minor": 0
      },
      "text/plain": [
       "  0%|          | 0/5000 [00:00<?, ?it/s]"
      ]
     },
     "metadata": {},
     "output_type": "display_data"
    },
    {
     "data": {
      "image/png": "[encoded data removed]",
      "text/plain": [
       "<Figure size 432x288 with 1 Axes>"
      ]
     },
     "metadata": {
      "needs_background": "light"
     },
     "output_type": "display_data"
    }
   ],
   "source": [
    "ppa_AdEx(neuron_AdEx)"
   ]
  },
  {
   "cell_type": "markdown",
   "id": "a293b764",
   "metadata": {},
   "source": [
    "### Extended: \n",
    "You can also modify the parameters (e.g, a, b, tau, tau_w, and the input current) in the AdEx model to see how they affect the firing pattern. Do the phase plane analysis again and try to explain the firing pattern according to the analysis result."
   ]
  },
  {
   "cell_type": "code",
   "execution_count": null,
   "id": "105790a1",
   "metadata": {},
   "outputs": [],
   "source": []
  }
 ],
 "metadata": {
  "kernelspec": {
   "display_name": "Python 3 (ipykernel)",
   "language": "python",
   "name": "python3"
  },
  "language_info": {
   "codemirror_mode": {
    "name": "ipython",
    "version": 3
   },
   "file_extension": ".py",
   "mimetype": "text/x-python",
   "name": "python",
   "nbconvert_exporter": "python",
   "pygments_lexer": "ipython3",
   "version": "3.9.12"
  }
 },
 "nbformat": 4,
 "nbformat_minor": 5
}
